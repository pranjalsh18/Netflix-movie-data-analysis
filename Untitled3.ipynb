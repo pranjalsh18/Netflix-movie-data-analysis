{
  "nbformat": 4,
  "nbformat_minor": 0,
  "metadata": {
    "colab": {
      "provenance": [],
      "authorship_tag": "ABX9TyMe4zfI0KynAWdyj9y6FN9l",
      "include_colab_link": true
    },
    "kernelspec": {
      "name": "python3",
      "display_name": "Python 3"
    },
    "language_info": {
      "name": "python"
    }
  },
  "cells": [
    {
      "cell_type": "markdown",
      "metadata": {
        "id": "view-in-github",
        "colab_type": "text"
      },
      "source": [
        "<a href=\"https://colab.research.google.com/github/pranjalsh18/Netflix-movie-data-analysis/blob/main/Untitled3.ipynb\" target=\"_parent\"><img src=\"https://colab.research.google.com/assets/colab-badge.svg\" alt=\"Open In Colab\"/></a>"
      ]
    },
    {
      "cell_type": "markdown",
      "source": [
        "Calculator"
      ],
      "metadata": {
        "id": "THnwcBitXHLc"
      }
    },
    {
      "cell_type": "code",
      "execution_count": 1,
      "metadata": {
        "colab": {
          "base_uri": "https://localhost:8080/"
        },
        "id": "uD_wQ6sCW2W0",
        "outputId": "f3cd0c9b-a1c1-4f7e-9d3d-1019981301eb"
      },
      "outputs": [
        {
          "name": "stdout",
          "output_type": "stream",
          "text": [
            "Simple Python Calculator\n",
            "Enter first number: 5\n",
            "Enter operator (+, -, *, /): /\n",
            "Enter second number: 10\n",
            "Result: 0.5\n",
            "Do you want to continue? (yes/no): yes\n",
            "Enter first number: 2\n",
            "Enter operator (+, -, *, /): +\n",
            "Enter second number: 34\n",
            "Result: 36.0\n",
            "Do you want to continue? (yes/no): no\n"
          ]
        }
      ],
      "source": [
        "def calculator():\n",
        "    print(\"Simple Python Calculator\")\n",
        "    while True:\n",
        "        try:\n",
        "            num1 = float(input(\"Enter first number: \"))\n",
        "            op = input(\"Enter operator (+, -, *, /): \")\n",
        "            num2 = float(input(\"Enter second number: \"))\n",
        "\n",
        "            if op == '+':\n",
        "                result = num1 + num2\n",
        "            elif op == '-':\n",
        "                result = num1 - num2\n",
        "            elif op == '*':\n",
        "                result = num1 * num2\n",
        "            elif op == '/':\n",
        "                if num2 == 0:\n",
        "                    print(\"Error: Cannot divide by zero.\")\n",
        "                    continue\n",
        "                result = num1 / num2\n",
        "            else:\n",
        "                print(\"Invalid operator\")\n",
        "                continue\n",
        "\n",
        "            print(f\"Result: {result}\")\n",
        "\n",
        "            cont = input(\"Do you want to continue? (yes/no): \")\n",
        "            if cont.lower() != 'yes':\n",
        "                break\n",
        "        except ValueError:\n",
        "            print(\"Invalid input. Please enter a number.\")\n",
        "\n",
        "calculator()\n"
      ]
    },
    {
      "cell_type": "markdown",
      "source": [
        "Quiz Game"
      ],
      "metadata": {
        "id": "21KjILcyXNFu"
      }
    },
    {
      "cell_type": "code",
      "source": [
        "def quiz_game():\n",
        "    print(\"Welcome to the Python Quiz Game!\")\n",
        "\n",
        "    questions = {\n",
        "        \"What is the capital of France?\": \"Paris\",\n",
        "        \"What is 5 + 7?\": \"12\",\n",
        "        \"Who wrote 'Romeo and Juliet'?\": \"Shakespeare\",\n",
        "        \"What is the boiling point of water in Celsius?\": \"100\",\n",
        "        \"What is the programming language used in this quiz?\": \"Python\"\n",
        "    }\n",
        "\n",
        "    score = 0\n",
        "\n",
        "    for question, answer in questions.items():\n",
        "        user_answer = input(question + \" \")\n",
        "        if user_answer.strip().lower() == answer.lower():\n",
        "            print(\"Correct!\")\n",
        "            score += 1\n",
        "        else:\n",
        "            print(f\"Wrong! The correct answer is {answer}.\")\n",
        "\n",
        "    print(f\"\\nGame over! Your total score is {score} out of {len(questions)}.\")\n",
        "\n",
        "quiz_game()\n"
      ],
      "metadata": {
        "colab": {
          "base_uri": "https://localhost:8080/"
        },
        "id": "fZZz_NEuXnUo",
        "outputId": "1b7324d9-ae75-42ff-b43e-bf118ab6a3c7"
      },
      "execution_count": 2,
      "outputs": [
        {
          "output_type": "stream",
          "name": "stdout",
          "text": [
            "Welcome to the Python Quiz Game!\n",
            "What is the capital of France? Paris\n",
            "Correct!\n",
            "What is 5 + 7? 12\n",
            "Correct!\n",
            "Who wrote 'Romeo and Juliet'? no\n",
            "Wrong! The correct answer is Shakespeare.\n",
            "What is the boiling point of water in Celsius? 89\n",
            "Wrong! The correct answer is 100.\n",
            "What is the programming language used in this quiz? python\n",
            "Correct!\n",
            "\n",
            "Game over! Your total score is 3 out of 5.\n"
          ]
        }
      ]
    }
  ]
}